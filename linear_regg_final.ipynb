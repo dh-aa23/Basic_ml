{
  "nbformat": 4,
  "nbformat_minor": 0,
  "metadata": {
    "colab": {
      "provenance": []
    },
    "kernelspec": {
      "name": "python3",
      "display_name": "Python 3"
    },
    "language_info": {
      "name": "python"
    }
  },
  "cells": [
    {
      "cell_type": "code",
      "execution_count": 43,
      "metadata": {
        "id": "oSvPcHKxsfjr"
      },
      "outputs": [],
      "source": []
    },
    {
      "cell_type": "code",
      "execution_count": 44,
      "metadata": {
        "id": "H_EEbpGpVW6B"
      },
      "outputs": [],
      "source": [
        "import numpy as np\n",
        "import math\n",
        "from matplotlib import pyplot as plt\n",
        "import pandas as pd"
      ]
    },
    {
      "cell_type": "code",
      "source": [
        "arr = np.loadtxt(\"Lineardata_train.csv\", skiprows = 1, delimiter=\",\")\n"
      ],
      "metadata": {
        "id": "4r_XdAz-VcxH"
      },
      "execution_count": 45,
      "outputs": []
    },
    {
      "cell_type": "code",
      "source": [
        "X_train=np.array(arr[:40000,1:])\n",
        "\n",
        "X_test=np.array(arr[40000:,1:])"
      ],
      "metadata": {
        "id": "8loBjJnbqRKS"
      },
      "execution_count": 46,
      "outputs": []
    },
    {
      "cell_type": "code",
      "source": [
        "Y_train=np.array(arr[:40000,0])\n",
        "Y_test=np.array(arr[40000:,0])\n",
        "Y_train[0]"
      ],
      "metadata": {
        "id": "1qLyq8RFsrmM",
        "colab": {
          "base_uri": "https://localhost:8080/"
        },
        "outputId": "2ff1f868-8284-4b46-9105-3c26f3fb5e63"
      },
      "execution_count": 47,
      "outputs": [
        {
          "output_type": "execute_result",
          "data": {
            "text/plain": [
              "-5928.102745620257"
            ]
          },
          "metadata": {},
          "execution_count": 47
        }
      ]
    },
    {
      "cell_type": "code",
      "source": [
        "# @title normalisation\n",
        "def normalise(x):\n",
        "    \"\"\"\n",
        "    x= array(m,n) = trainig set m= no of examples, n= no.of features\n",
        "    mu (ndarray (n,))     : mean of each feature\n",
        "        sigma (ndarray (n,))  : standard deviation of each feature\n",
        "    \"\"\"\n",
        "    n=np.shape(x[1:][0])\n",
        "    mu = np.mean(x, axis=0)\n",
        "    sigma = np.std(x, axis=0)+1e-10\n",
        "    x_normalised= (x-mu)/sigma\n",
        "    return x_normalised,mu,sigma\n"
      ],
      "metadata": {
        "id": "qr9JZ6vns6z0"
      },
      "execution_count": 48,
      "outputs": []
    },
    {
      "cell_type": "code",
      "source": [
        "def cost(x,y,w,b):\n",
        "  \"\"\"\n",
        "  x= array(m,n) = trainig set m= no of examples, n= no.of features\n",
        "  y= array(m)= array containing actual lables\n",
        "  w= array(n)= feature weights\n",
        "  b= bias\"\"\"\n",
        "  m=x.shape[0]\n",
        "  label_pre = np.dot(x,w)+b #array containing predicted lables\n",
        "  unsq_cost = label_pre - y #array containg unsquared cost of each example\n",
        "  sq_cost = np.square(unsq_cost) #squared cost of each element\n",
        "  cost = np.sum(sq_cost)\n",
        "  cost = cost/2\n",
        "  cost = cost/m\n",
        "  return cost\n"
      ],
      "metadata": {
        "id": "YjyxDkIC3DkN"
      },
      "execution_count": 49,
      "outputs": []
    },
    {
      "cell_type": "code",
      "source": [
        "def total_cost(x,y,w,b,_lambda):\n",
        "  m= x.shape[0]\n",
        "  n=x.shape[1:][0]\n",
        "  total_cost = cost(x,y,w,b)\n",
        "  reg_cost= 0\n",
        "  for i in range(n):\n",
        "    reg_cost = reg_cost + w[i]**2\n",
        "  reg_cost = reg_cost*_lambda\n",
        "  reg_cost = reg_cost/2\n",
        "  reg_cost = reg_cost/m\n",
        "  total_cost = total_cost + reg_cost\n",
        "  return total_cost\n",
        "\n"
      ],
      "metadata": {
        "id": "FoiAKdcM7KXU"
      },
      "execution_count": 50,
      "outputs": []
    },
    {
      "cell_type": "code",
      "source": [
        "def gradient(x,y,w,b,):\n",
        "  \"\"\"\n",
        "   x= array(m,n) = trainig set m= no of examples, n= no.of features\n",
        "  y= array(m)= value\n",
        "  w= array(n)= feature weights\n",
        "  b= bias\n",
        "  df_dw: array(n)= derivative of cost wrt weights\n",
        "  df_db = derivative of cost wrt bias b\n",
        "  \"\"\"\n",
        "  m= x.shape[0]\n",
        "  n=x.shape[1:][0]\n",
        "\n",
        "\n",
        "  label_pre = np.dot(x,w)+b #array containing predicted lables\n",
        "\n",
        "  unsq_cost = label_pre - y #array containg unsquared cost of each example\n",
        "  df_db = np.sum(unsq_cost) #sum of cost\n",
        "  df_db = df_db/m\n",
        "  unsq_cost1 = np.reshape(unsq_cost,(1,-1))   #reshaping the array to (1,m)\n",
        "  df_dw = np.dot(unsq_cost1,x)\n",
        "  df_dw= np.reshape(df_dw,(n,1))\n",
        "\n",
        "  df_dw = df_dw/m\n",
        "  return df_db, df_dw\n",
        "\n"
      ],
      "metadata": {
        "id": "1zDTh7lT9E9h"
      },
      "execution_count": 51,
      "outputs": []
    },
    {
      "cell_type": "code",
      "source": [
        "def gradient_descent(x,y,w,b,itr_nos,alpha):\n",
        "  \"\"\"\n",
        "  x= array(m,n) = trainig set m= no of examples, n= no.of features\n",
        "  y= array(m)= value\n",
        "  w= array(n)= feature weights\n",
        "  b= bias\n",
        "  itr_nos = no of iterations\n",
        "  alpha = learning rate\n",
        "  \"\"\"\n",
        "  m= x.shape[0]\n",
        "  n=x.shape[1:][0]\n",
        "  J_log = np.zeros(itr_nos)\n",
        "\n",
        "\n",
        "  for i in range(itr_nos):\n",
        "    df_db, df_dw = gradient(x,y,w,b,)\n",
        "\n",
        "    b = b - alpha*df_db\n",
        "    for j in range(n):\n",
        "      w[j]=w[j]-alpha*df_dw[j]\n",
        "\n",
        "    if i% math.ceil(itr_nos/10) == 0 :\n",
        "            print(f\"itr.no={i}, cost={cost(x,y,w,b)}\")\n",
        "\n",
        "\n",
        "\n",
        "    J_log[i]= J_log[i] + cost(x,y,w,b)\n",
        "\n",
        "  return w,b,J_log\n",
        "\n",
        "\n"
      ],
      "metadata": {
        "id": "-9n_NWqetpU3"
      },
      "execution_count": 52,
      "outputs": []
    },
    {
      "cell_type": "code",
      "source": [
        "w_initial = np.random.rand(20,)\n",
        "\n",
        "\n",
        "b_initial = 0\n",
        "iterations = 11000\n",
        "\n",
        "alpha=1e-3\n",
        "\n",
        "X,mu,sigma=normalise(X_train)\n",
        "\n",
        "\n",
        "w,b,J_log = gradient_descent(X,Y_train,w_initial,b_initial,iterations,alpha)"
      ],
      "metadata": {
        "colab": {
          "base_uri": "https://localhost:8080/"
        },
        "id": "zhyRhTiczyi6",
        "outputId": "f92ad3fc-ac11-417e-ddcf-1e995364f1b7"
      },
      "execution_count": 53,
      "outputs": [
        {
          "output_type": "stream",
          "name": "stdout",
          "text": [
            "itr.no=0, cost=65613450.049907364\n",
            "itr.no=1100, cost=7216817.893404837\n",
            "itr.no=2200, cost=795240.4540003639\n",
            "itr.no=3300, cost=87790.5386295164\n",
            "itr.no=4400, cost=9709.329083854163\n",
            "itr.no=5500, cost=1075.7687723613228\n",
            "itr.no=6600, cost=119.41070375415924\n",
            "itr.no=7700, cost=13.282219660925705\n",
            "itr.no=8800, cost=1.4839883718073716\n",
            "itr.no=9900, cost=0.17007377773639792\n"
          ]
        }
      ]
    },
    {
      "cell_type": "code",
      "source": [
        "def predict(w,b,x1):\n",
        "  \"\"\"\n",
        "  w = array(n)\n",
        "  b = bias\n",
        "  x1(m,n) = test set\n",
        "  \"\"\"\n",
        "  n=x1.shape[1:][0]\n",
        "  m=x1.shape[0]\n",
        "\n",
        "  predn=  np.dot(w,x1) + b\n",
        "\n",
        "  return predn\n"
      ],
      "metadata": {
        "id": "vXaF9plswM4B"
      },
      "execution_count": 54,
      "outputs": []
    },
    {
      "cell_type": "code",
      "source": [
        "\n",
        "def r2_score(actual,predicted):\n",
        "    mean_actual = np.mean(actual)\n",
        "    ss_t = np.sum((actual - mean_actual)**2)\n",
        "    ss_r = np.sum((actual - predicted.flatten())**2)\n",
        "    r2_score = 1 - (ss_r / ss_t)\n",
        "    return r2_score"
      ],
      "metadata": {
        "id": "kvigVq1_Whxy"
      },
      "execution_count": 55,
      "outputs": []
    },
    {
      "cell_type": "code",
      "source": [
        "x_t_nor=(X_test-mu)/sigma\n",
        "\n",
        "r2_score(Y_test,np.dot(x_t_nor,w)+b)"
      ],
      "metadata": {
        "colab": {
          "base_uri": "https://localhost:8080/"
        },
        "id": "xUJm8_sdWm6w",
        "outputId": "f5c5b360-3fb9-492b-98a8-8a9b11af4e1f"
      },
      "execution_count": 57,
      "outputs": [
        {
          "output_type": "execute_result",
          "data": {
            "text/plain": [
              "0.9999999996371814"
            ]
          },
          "metadata": {},
          "execution_count": 57
        }
      ]
    }
  ]
}