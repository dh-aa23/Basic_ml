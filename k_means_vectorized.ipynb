{
 "cells": [
  {
   "cell_type": "code",
   "execution_count": 40,
   "metadata": {},
   "outputs": [],
   "source": [
    "import numpy as np\n",
    "import pandas as pd\n",
    "import math\n",
    "from matplotlib import pyplot as plt"
   ]
  },
  {
   "cell_type": "code",
   "execution_count": 41,
   "metadata": {},
   "outputs": [],
   "source": [
    "arr = pd.read_csv(\"Kmean_dataset.csv\")\n",
    "x=arr.to_numpy()\n",
    "\n",
    "X_train=x"
   ]
  },
  {
   "cell_type": "code",
   "execution_count": 42,
   "metadata": {},
   "outputs": [],
   "source": [
    "def cost(x,centroid,near_indx):\n",
    "    m=x.shape[0]\n",
    "    cost=np.sum(np.square(x-centroid[near_indx]))/m\n",
    "    return cost"
   ]
  },
  {
   "cell_type": "code",
   "execution_count": 43,
   "metadata": {},
   "outputs": [],
   "source": [
    "def normalise(x):\n",
    "  \"\"\"\n",
    "  x= array(m,n) = trainig set m= no of examples, n= no.of features\n",
    "  mu (ndarray (n,))     : mean of each feature\n",
    "      sigma (ndarray (n,))  : standard deviation of each feature\n",
    "  \"\"\"\n",
    "  n=np.shape(x[1:][0])\n",
    "  mu = np.mean(x, axis=0)\n",
    "  sigma = np.std(x, axis=0) + 1e-10\n",
    "  x_normalised= (x-mu)\n",
    "  x_normalised = x_normalised/sigma\n",
    "  return x_normalised"
   ]
  },
  {
   "cell_type": "code",
   "execution_count": 44,
   "metadata": {},
   "outputs": [],
   "source": [
    "def neighbour_dist(x, x_test):\n",
    "  \"\"\"\n",
    "  x:array(m,n): train dataset\n",
    "  x_test:test dataset(a,n):a is number of test examples\n",
    "  dist: array(a,m): each row contains dist of a training point from all other points.\n",
    "  \"\"\"\n",
    "  m = x.shape[0]\n",
    "  n = x.shape[1:][0]\n",
    "  a = x_test.shape[0]\n",
    "  dist = []\n",
    "  for i in range(a):\n",
    "    distance = np.reshape(np.sum((x[:, np.newaxis, :] - x_test[i]) ** 2, axis=2), (1, -1))\n",
    "                          \n",
    "      \n",
    "    dist.append(distance)\n",
    "  euc_dist = np.array(dist)\n",
    "  return euc_dist.reshape(-1, m)\n",
    "\n"
   ]
  },
  {
   "cell_type": "code",
   "execution_count": 45,
   "metadata": {},
   "outputs": [],
   "source": [
    "def closest_centroid(x,centroid):\n",
    "    \"\"\"\n",
    "    x:array(m,n):test dataset\n",
    "    centroid:array(k,n): location of all k centroids\n",
    "    near_indx:array(m,):index of nearest centroid to each point\n",
    "    \"\"\"\n",
    "    \n",
    "    dist=neighbour_dist(centroid,x)\n",
    "    \n",
    "    near_indx=np.argmin(dist,axis=1)\n",
    "    \n",
    "    return near_indx"
   ]
  },
  {
   "cell_type": "code",
   "execution_count": 46,
   "metadata": {},
   "outputs": [],
   "source": [
    "def one_hot_encoding(y,k):\n",
    "    m=y.size\n",
    "    n=k\n",
    "    p=np.zeros((m,n))\n",
    "    p[np.arange(m),y]=1\n",
    "    return p\n"
   ]
  },
  {
   "cell_type": "code",
   "execution_count": 47,
   "metadata": {},
   "outputs": [],
   "source": [
    "def centroid_update(x,near_indx,k):\n",
    "    \"\"\" \n",
    "    k: number of centroid\n",
    "    \n",
    "    \"\"\"\n",
    "    m,n=x.shape\n",
    "    cen_indx_one_hot=one_hot_encoding(near_indx,k)\n",
    "    \n",
    "    near_matrix=np.zeros((n,m,k))\n",
    "   \n",
    "    \n",
    "    for i in range (n):\n",
    "        \n",
    "        near_matrix[i]=cen_indx_one_hot*np.reshape(x[:,i],(-1,1))\n",
    "    centroid_new=np.sum(near_matrix,axis=1)\n",
    "    \n",
    "    div=np.bincount(near_indx,minlength=k)+1e-15\n",
    "    new_posn=(centroid_new.T)/(div.reshape(-1,1))\n",
    "\n",
    "    return new_posn"
   ]
  },
  {
   "cell_type": "code",
   "execution_count": 48,
   "metadata": {},
   "outputs": [],
   "source": [
    "def random_init_centroids(X, k):\n",
    "    indices = np.random.choice(X.shape[0], k, replace=False)\n",
    "    return X[indices, :]"
   ]
  },
  {
   "cell_type": "code",
   "execution_count": 49,
   "metadata": {},
   "outputs": [],
   "source": [
    "def iterate(x,k,itr_nos):\n",
    "    m,n=x.shape\n",
    "    centroid=random_init_centroids(x,k)\n",
    "   \n",
    "    for i in range(itr_nos):\n",
    "        near_indx=closest_centroid(x,centroid)\n",
    "        centroid=centroid_update(x,near_indx,k)\n",
    "        if i%100==0:\n",
    "            print(cost(x,centroid,near_indx))\n",
    "    costn=cost(x,centroid,near_indx)\n",
    "    return centroid,costn"
   ]
  },
  {
   "cell_type": "code",
   "execution_count": 50,
   "metadata": {},
   "outputs": [
    {
     "name": "stdout",
     "output_type": "stream",
     "text": [
      "9.227410288359556\n"
     ]
    },
    {
     "name": "stdout",
     "output_type": "stream",
     "text": [
      "7.184049302356977\n",
      "7.184049302356977\n",
      "7.184049302356977\n",
      "7.184049302356977\n",
      "7.184049302356977\n",
      "7.184049302356977\n",
      "7.184049302356977\n",
      "7.184049302356977\n",
      "7.184049302356977\n"
     ]
    }
   ],
   "source": [
    "c,costn=iterate(normalise(X_train),3,1000)\n",
    "y=normalise(X_train)\n"
   ]
  },
  {
   "cell_type": "code",
   "execution_count": 51,
   "metadata": {},
   "outputs": [
    {
     "data": {
      "image/png": "[encoded data removed]",
      "text/plain": [
       "<Figure size 640x480 with 1 Axes>"
      ]
     },
     "metadata": {},
     "output_type": "display_data"
    }
   ],
   "source": [
    "plt.scatter(y[:,2],y[:,3])\n",
    "plt.scatter(c[:,2],c[:,3],color='red')\n",
    "plt.show()"
   ]
  },
  {
   "cell_type": "code",
   "execution_count": 55,
   "metadata": {},
   "outputs": [
    {
     "name": "stdout",
     "output_type": "stream",
     "text": [
      "(3, 178)\n"
     ]
    }
   ],
   "source": [
    "dist=neighbour_dist(normalise(X_train), c)\n",
    "print(dist.shape)\n",
    "answer=np.argmin(dist,axis=0)+1\n",
    "df = pd.DataFrame(answer)\n",
    "df.to_csv('kmeans_output.csv', index=False, header=False)"
   ]
  }
 ],
 "metadata": {
  "kernelspec": {
   "display_name": "base",
   "language": "python",
   "name": "python3"
  },
  "language_info": {
   "codemirror_mode": {
    "name": "ipython",
    "version": 3
   },
   "file_extension": ".py",
   "mimetype": "text/x-python",
   "name": "python",
   "nbconvert_exporter": "python",
   "pygments_lexer": "ipython3",
   "version": "3.11.5"
  }
 },
 "nbformat": 4,
 "nbformat_minor": 2
}
