{
 "cells": [
  {
   "cell_type": "code",
   "execution_count": 1,
   "metadata": {
    "id": "tR4IoQUzIle1"
   },
   "outputs": [],
   "source": [
    "import numpy as np\n",
    "import pandas as pd\n",
    "import math\n",
    "\n",
    "from matplotlib import pyplot as plt"
   ]
  },
  {
   "cell_type": "code",
   "execution_count": 2,
   "metadata": {
    "id": "xUCFc5Tsutxx"
   },
   "outputs": [],
   "source": [
    "arr = pd.read_csv(\"Polynomialdata_train.csv\")\n",
    "arr1=arr.sample(frac=1)\n",
    "\n",
    "x=arr.drop(['target'],axis=1)\n",
    "y=arr['target']"
   ]
  },
  {
   "cell_type": "code",
   "execution_count": 3,
   "metadata": {
    "cellView": "form",
    "id": "iQabVkQO-sPK"
   },
   "outputs": [],
   "source": [
    "# @title normalisation\n",
    "def normalise(x):\n",
    "    \"\"\"\n",
    "    x= array(m,n) = trainig set m= no of examples, n= no.of features\n",
    "    mu (ndarray (n,))     : mean of each feature\n",
    "        sigma (ndarray (n,))  : standard deviation of each feature\n",
    "    \"\"\"\n",
    "    n=np.shape(x[1:][0])\n",
    "    mu = np.mean(x, axis=0)\n",
    "    sigma = np.std(x, axis=0)+1e-10\n",
    "    x_normalised= (x-mu)/sigma\n",
    "    return x_normalised,mu,sigma\n"
   ]
  },
  {
   "cell_type": "code",
   "execution_count": 4,
   "metadata": {
    "id": "FU3AZIPmp6y1"
   },
   "outputs": [],
   "source": [
    "x_train1=x.to_numpy()\n",
    "y_train1=y.to_numpy()"
   ]
  },
  {
   "cell_type": "code",
   "execution_count": 5,
   "metadata": {
    "id": "WozzErL8u1cs"
   },
   "outputs": [
    {
     "name": "stdout",
     "output_type": "stream",
     "text": [
      "(40000, 3)\n"
     ]
    }
   ],
   "source": [
    "X_t = x_train1\n",
    "Y_train = y_train1[:40000]\n",
    "\n",
    "Y_cv=y_train1[40000:]\n",
    "X_cv=X_t[40000:]\n",
    "X_train=X_t[:40000]\n",
    "print(X_train.shape)"
   ]
  },
  {
   "cell_type": "code",
   "execution_count": 6,
   "metadata": {},
   "outputs": [],
   "source": [
    "def combinations_with_replacement(iterators,degree):\n",
    " \n",
    "    if degree==0:\n",
    "        return [[]]\n",
    "    if not iterators or degree < 0:\n",
    "        return [[]]  \n",
    "    answer=[]\n",
    "    \n",
    "    if iterators[0]==0:\n",
    "        for i in range(degree+1):\n",
    "            combi=np.zeros(i,)\n",
    "            deg_temp=degree-i\n",
    "            sublist=combinations_with_replacement(list(range(1,(iterators[-1]+1))),deg_temp)\n",
    "            for j in range(len(sublist)):\n",
    "                answer.append(np.append(combi,sublist[j]))\n",
    "    elif iterators[0]==1:\n",
    "        for i in range(degree+1):\n",
    "            combi=np.ones(i,)\n",
    "            deg_temp=degree-i\n",
    "            sublist=combinations_with_replacement([2],deg_temp)\n",
    "            for j in range(len(sublist)):\n",
    "                answer.append(np.append(combi,sublist[j]))\n",
    "    elif iterators[0]==2:\n",
    "        answer.append(np.ones(degree,)+1)\n",
    "    return answer"
   ]
  },
  {
   "cell_type": "code",
   "execution_count": 7,
   "metadata": {},
   "outputs": [],
   "source": [
    "def create_polynomial(degree, X):\n",
    "\n",
    "    num_samples, num_features = X.shape\n",
    "    combinations =combinations_with_replacement(list(range(num_features)), degree)\n",
    "    result = np.empty((num_samples, 0))\n",
    "    for indices in combinations:\n",
    "        \n",
    "        arr=np.ones(X.shape[0],)\n",
    "        for i in range(indices.shape[0]):\n",
    "            \n",
    "            arr=arr*X[:,int(indices[i])]\n",
    "        result = np.hstack((result, arr.reshape(-1,1)))\n",
    "    return result"
   ]
  },
  {
   "cell_type": "code",
   "execution_count": 8,
   "metadata": {},
   "outputs": [],
   "source": [
    "def poly(X_train,degree):\n",
    "    X_fin=np.empty((X_train.shape[0],0))\n",
    "    for i in range(degree):\n",
    "        X_fin=np.concatenate([X_fin,create_polynomial(i+1,X_train)],axis=1)\n",
    "    return X_fin"
   ]
  },
  {
   "cell_type": "code",
   "execution_count": 9,
   "metadata": {},
   "outputs": [
    {
     "data": {
      "text/plain": [
       "(40000, 83)"
      ]
     },
     "execution_count": 9,
     "metadata": {},
     "output_type": "execute_result"
    }
   ],
   "source": [
    "X_fin=poly(X_train,6)\n",
    "\n",
    "X_fin.shape\n"
   ]
  },
  {
   "cell_type": "code",
   "execution_count": 10,
   "metadata": {
    "cellView": "form",
    "id": "457UhXR9_HUA"
   },
   "outputs": [],
   "source": [
    "# @title cost\n",
    "def cost(x,y,w,b):\n",
    "    \"\"\"\n",
    "    x= array(m,n) = trainig set m= no of examples, n= no.of features\n",
    "    y= array(m)= array containing actual lables\n",
    "    w= array(n)= feature weights\n",
    "    _lambda=regularisation consatant\n",
    "    b= bias\"\"\"\n",
    "\n",
    "    m=x.shape[0]\n",
    "    label_pre = np.dot(x,w)+b #array containing predicted lables\n",
    "\n",
    "    unsq_cost =( label_pre.flatten() - y)/np.sqrt(m) #array containg unsquared cost of each example\n",
    "    sq_cost = np.square(unsq_cost) #squared cost of each element\n",
    "    cost = np.sum(sq_cost)\n",
    "    cost = cost/2\n",
    "    cost = cost\n",
    "\n",
    "\n",
    "    return cost\n",
    "\n"
   ]
  },
  {
   "cell_type": "code",
   "execution_count": 11,
   "metadata": {
    "cellView": "form",
    "id": "8Tq724JQgcLk"
   },
   "outputs": [],
   "source": [
    "# @title regularised cost\n",
    "def reg_cost(x,y,w,b,_lambda):\n",
    "    m=x.shape[0]\n",
    "    ser_reg=np.square(w)/np.sqrt(m)  #array of squared weights for regulartsation\n",
    "    reg_cost=np.sum(ser_reg) #regularised cost\n",
    "    reg_cost=_lambda*reg_cost\n",
    "    \n",
    "    reg_cost=reg_cost/2\n",
    "\n",
    "    total_cost = reg_cost + cost(x,y,w,b)\n",
    "    return total_cost"
   ]
  },
  {
   "cell_type": "code",
   "execution_count": 12,
   "metadata": {
    "cellView": "form",
    "id": "yTbrc5x_BKCG"
   },
   "outputs": [],
   "source": [
    "# @title gradient\n",
    "def gradient(x,y,w,b,_lambda):\n",
    "    \"\"\"\n",
    "    x= array(m,n) = trainig set m= no of examples, n= no.of features\n",
    "    y= array(m)= value\n",
    "    w= array(n)= feature weights\n",
    "    b= bias\n",
    "    df_dw: array(n)= derivative of cost wrt weights\n",
    "    df_db = derivative of cost wrt bias b\n",
    "    \"\"\"\n",
    "    m= x.shape[0]\n",
    "    n=x.shape[1:][0]\n",
    "\n",
    "    label_pre = np.dot(x,w)+b #array containing predicted lables\n",
    "    \n",
    "    unsq_cost = label_pre.flatten() - y #array containg unsquared cost of each example\n",
    "    \n",
    "    df_db = np.sum(unsq_cost) #sum of cost\n",
    "    df_db = df_db/m\n",
    "    unsq_cost1 = np.reshape(unsq_cost,(1,-1))   #reshaping the array to (1,m)\n",
    "    \n",
    "    df_dw = np.dot(unsq_cost1,x)\n",
    "    \n",
    "    df_dw= df_dw.T + _lambda*w\n",
    "    \n",
    "\n",
    "    df_dw = df_dw/m\n",
    "    return df_db, df_dw\n"
   ]
  },
  {
   "cell_type": "code",
   "execution_count": 13,
   "metadata": {
    "cellView": "form",
    "id": "XOYaa0abEYfU"
   },
   "outputs": [],
   "source": [
    "# @title gradient descent\n",
    "def gradient_descent(x,y,w,b,itr_nos,alpha,_lambda):\n",
    "    \"\"\"\n",
    "    x= array(m,n) = trainig set m= no of examples, n= no.of features\n",
    "    y= array(m)= value\n",
    "    w= array(n)= feature weights\n",
    "    b= bias\n",
    "    itr_nos = no of iterations\n",
    "    alpha = learning rate\n",
    "    \"\"\"\n",
    "    m= x.shape[0]\n",
    "    n=x.shape[1:][0]\n",
    "    J_log = np.zeros(itr_nos)\n",
    "\n",
    "    for i in range(itr_nos):\n",
    "        for j in range(1250):\n",
    "            x_t=x[32*j:32*(j+1)]\n",
    "            y_t=y[32*j:32*(j+1)]\n",
    "            df_db, df_dw = gradient(x_t,y_t,w,b,_lambda)\n",
    "            b=b-alpha*df_db\n",
    "\n",
    "            w = w-alpha*df_dw\n",
    "\n",
    "        J_log[i]= J_log[i]+ cost(x,y,w,b,)\n",
    "\n",
    "        if i% math.ceil(itr_nos/10) == 0 :\n",
    "            print(f\"itr.no={i:4d}, cost={reg_cost(x,y,w,b,_lambda)}\")\n",
    "\n",
    "    return w,b,J_log\n"
   ]
  },
  {
   "cell_type": "code",
   "execution_count": 14,
   "metadata": {
    "id": "Q9eiqL4sHvbi"
   },
   "outputs": [
    {
     "name": "stdout",
     "output_type": "stream",
     "text": [
      "(83,)\n",
      "itr.no=   0, cost=4429645281981.71\n",
      "itr.no= 500, cost=988444.4126321591\n",
      "itr.no=1000, cost=14.581010741322386\n",
      "itr.no=1500, cost=0.00027040792719270246\n",
      "itr.no=2000, cost=5.313620723900918e-09\n",
      "itr.no=2500, cost=7.192507637644043e-14\n",
      "itr.no=3000, cost=4.070111701898364e-16\n",
      "itr.no=3500, cost=4.040089942199936e-16\n",
      "itr.no=4000, cost=4.047822921867978e-16\n",
      "itr.no=4500, cost=4.041403435799778e-16\n"
     ]
    }
   ],
   "source": [
    "# @title test\n",
    "\n",
    "n=np.shape(X_fin[1:][0])\n",
    "w_initial = np.random.randn(n[0],1)\n",
    "print(n)\n",
    "b_initial = 0\n",
    "alpha=1e-3\n",
    "iterations = 5000\n",
    "Xx,mu,sigma=normalise(X_fin)\n",
    "_lambda = 0\n",
    "\n",
    "w,b,J_log = gradient_descent(Xx,Y_train,w_initial,b_initial,iterations,alpha,_lambda)\n",
    "   "
   ]
  },
  {
   "cell_type": "code",
   "execution_count": 15,
   "metadata": {},
   "outputs": [
    {
     "data": {
      "text/plain": [
       "array([[4.13152828e+06],\n",
       "       [3.17297482e-01],\n",
       "       [4.67642163e+04],\n",
       "       [1.40417483e+05],\n",
       "       [4.78898764e+03],\n",
       "       [1.75719419e+01],\n",
       "       [5.90902032e+04],\n",
       "       [5.96205054e+06],\n",
       "       [1.04458018e+00],\n",
       "       [4.38821016e+00]])"
      ]
     },
     "execution_count": 15,
     "metadata": {},
     "output_type": "execute_result"
    }
   ],
   "source": [
    "predic=np.dot(Xx,w)+b\n",
    "predic[:10]"
   ]
  },
  {
   "cell_type": "code",
   "execution_count": 16,
   "metadata": {},
   "outputs": [
    {
     "data": {
      "text/plain": [
       "4.051845314683197e-16"
      ]
     },
     "execution_count": 16,
     "metadata": {},
     "output_type": "execute_result"
    }
   ],
   "source": [
    "J_log[-1]"
   ]
  },
  {
   "cell_type": "code",
   "execution_count": 17,
   "metadata": {
    "id": "7eeDC_D1Xt-W"
   },
   "outputs": [],
   "source": [
    "\n",
    "def r2_score(actual,predicted):\n",
    "    mean_actual = np.mean(actual)   \n",
    "    ss_t = np.sum((actual - mean_actual)**2)   \n",
    "    ss_r = np.sum((actual - predicted.flatten())**2)\n",
    "    r2_score = 1 - (ss_r / ss_t)\n",
    "    return r2_score\n"
   ]
  },
  {
   "cell_type": "code",
   "execution_count": 18,
   "metadata": {
    "scrolled": false
   },
   "outputs": [
    {
     "data": {
      "text/plain": [
       "1.0"
      ]
     },
     "execution_count": 18,
     "metadata": {},
     "output_type": "execute_result"
    }
   ],
   "source": [
    "r2_score(Y_train,predic)"
   ]
  },
  {
   "cell_type": "code",
   "execution_count": 19,
   "metadata": {},
   "outputs": [
    {
     "data": {
      "text/plain": [
       "1.0"
      ]
     },
     "execution_count": 19,
     "metadata": {},
     "output_type": "execute_result"
    }
   ],
   "source": [
    "X_cvnorm=(poly(X_cv,6)-mu)/sigma\n",
    "r2_score(Y_cv,np.dot(X_cvnorm,w)+b)"
   ]
  },
  {
   "cell_type": "code",
   "execution_count": 21,
   "metadata": {},
   "outputs": [
    {
     "data": {
      "text/plain": [
       "1.0"
      ]
     },
     "execution_count": 21,
     "metadata": {},
     "output_type": "execute_result"
    }
   ],
   "source": [
    "r2_score(Y_train,predic)"
   ]
  },
  {
   "cell_type": "code",
   "execution_count": 22,
   "metadata": {},
   "outputs": [
    {
     "data": {
      "image/png": "[encoded data removed]",
      "text/plain": [
       "<Figure size 640x480 with 1 Axes>"
      ]
     },
     "metadata": {},
     "output_type": "display_data"
    }
   ],
   "source": [
    "plt.plot(J_log)\n",
    "plt.xlabel(\"alpha = 1e-3, total epochs = 5000\")\n",
    "plt.show()"
   ]
  },
  {
   "cell_type": "code",
   "execution_count": 23,
   "metadata": {},
   "outputs": [],
   "source": [
    "Xs=X_t**2\n",
    "X3=np.power(X_t,3)"
   ]
  },
  {
   "cell_type": "code",
   "execution_count": 24,
   "metadata": {},
   "outputs": [
    {
     "data": {
      "text/plain": [
       "<function matplotlib.pyplot.show(close=None, block=None)>"
      ]
     },
     "execution_count": 24,
     "metadata": {},
     "output_type": "execute_result"
    },
    {
     "data": {
      "image/png": "[encoded data removed]",
      "text/plain": [
       "<Figure size 640x480 with 1 Axes>"
      ]
     },
     "metadata": {},
     "output_type": "display_data"
    }
   ],
   "source": [
    "plt.scatter(X3[:,2],y_train1)\n",
    "plt.ylabel(\"Labels\")\n",
    "plt.xlabel(\"feature three cube\")\n",
    "plt.show"
   ]
  },
  {
   "cell_type": "code",
   "execution_count": 25,
   "metadata": {},
   "outputs": [
    {
     "data": {
      "image/png": "[encoded data removed]",
      "text/plain": [
       "<Figure size 640x480 with 1 Axes>"
      ]
     },
     "metadata": {},
     "output_type": "display_data"
    }
   ],
   "source": [
    "\n",
    "plt.scatter(X_train[:,2],Y_train,color=\"red\")\n",
    "plt.scatter(X_train[:,2],predic)\n",
    "plt.xlabel(\"third feature\")\n",
    "plt.ylabel(\"labels\")\n",
    "legend_labels={\n",
    "    \"actual\" : \"red\",\n",
    "    \"predicted\":\"blue\"\n",
    "}\n",
    "handles = [plt.Line2D([0], [0], color=color, label=label) for label, color in legend_labels.items()]\n",
    "plt.legend(handles=handles)\n",
    "plt.show()"
   ]
  }
 ],
 "metadata": {
  "colab": {
   "provenance": []
  },
  "kernelspec": {
   "display_name": "Python 3 (ipykernel)",
   "language": "python",
   "name": "python3"
  },
  "language_info": {
   "codemirror_mode": {
    "name": "ipython",
    "version": 3
   },
   "file_extension": ".py",
   "mimetype": "text/x-python",
   "name": "python",
   "nbconvert_exporter": "python",
   "pygments_lexer": "ipython3",
   "version": "3.11.5"
  }
 },
 "nbformat": 4,
 "nbformat_minor": 1
}
