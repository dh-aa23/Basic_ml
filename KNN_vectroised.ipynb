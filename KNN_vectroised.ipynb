{
 "cells": [
  {
   "cell_type": "code",
   "execution_count": null,
   "metadata": {},
   "outputs": [],
   "source": []
  },
  {
   "cell_type": "code",
   "execution_count": 1,
   "metadata": {},
   "outputs": [],
   "source": [
    "import numpy as np\n",
    "import pandas as pd\n",
    "import math\n",
    "from matplotlib import pyplot as plt\n",
    "\n"
   ]
  },
  {
   "cell_type": "code",
   "execution_count": 2,
   "metadata": {},
   "outputs": [],
   "source": [
    "arr = pd.read_csv(\"Classification_train.csv\")\n",
    "x=arr.drop(['label'],axis=1)\n",
    "y=arr['label']"
   ]
  },
  {
   "cell_type": "code",
   "execution_count": 3,
   "metadata": {},
   "outputs": [],
   "source": [
    "x_train1=x.to_numpy()\n",
    "y_train1=y.to_numpy()"
   ]
  },
  {
   "cell_type": "code",
   "execution_count": 4,
   "metadata": {},
   "outputs": [
    {
     "name": "stdout",
     "output_type": "stream",
     "text": [
      "(24000,)\n"
     ]
    }
   ],
   "source": [
    "X_train=np.array(x_train1[:24000]).astype(np.int16)\n",
    "Y_train=np.array(y_train1[:24000]).astype(np.int16)\n",
    "X_test=np.array(x_train1[24000:]).astype(np.int16)\n",
    "Y_test=np.array(y_train1[24000:]).astype(np.int16)\n",
    "X_train=X_train/2\n",
    "X_test=X_test/2\n",
    "print(Y_train.shape)"
   ]
  },
  {
   "cell_type": "code",
   "execution_count": 5,
   "metadata": {},
   "outputs": [],
   "source": [
    "def neighbour_dist(x, x_test):\n",
    "  \"\"\"\n",
    "  x:array(m,n): train dataset\n",
    "  x_test:test dataset(a,n):a is number of test examples\n",
    "  dist: array(a,m): each row contains dist of a training point from all other points.\n",
    "  \"\"\"\n",
    "  m = x.shape[0]\n",
    "  n = x.shape[1:][0]\n",
    "  a = x_test.shape[0]\n",
    "  dist = []\n",
    "  for i in range(a):\n",
    "    distance = np.reshape(np.sum((x[:, np.newaxis, :] - x_test[i]) ** 2, axis=2), (1, -1))                      \n",
    "    dist.append(distance)\n",
    "    if i%100==0:\n",
    "      print(i,end=\" \")\n",
    "  euc_dist = np.array(dist)\n",
    "  return euc_dist.reshape(-1, m)"
   ]
  },
  {
   "cell_type": "code",
   "execution_count": 6,
   "metadata": {},
   "outputs": [],
   "source": [
    "def output(y,dist,k): #returns array of k nearest training points to given test point\n",
    "\n",
    "  \"\"\"\n",
    "  y: array(m,)=labels of all training points\n",
    "  k: number of nearest labels to be considerd\n",
    "  dist(a,m)\n",
    "  \"\"\"\n",
    "  arguments=np.argsort(dist,axis=1)  #indices of dist arranged in ascending order across a row\n",
    "\n",
    "  NN_labels=y[arguments][:,:k]\n",
    "\n",
    "\n",
    "  # NN_labels = np.take(y,arguments_req)  #array containg labels of nearest neighbours for each test case\n",
    "  # print(NN_labels.shape)\n",
    "\n",
    "  return NN_labels\n",
    "\n",
    "\n"
   ]
  },
  {
   "cell_type": "code",
   "execution_count": 7,
   "metadata": {},
   "outputs": [],
   "source": [
    "def answer(y,x,x_test,k):\n",
    "  \"\"\"\n",
    "  x:array(m,n): train dataset\n",
    "  x_test:test dataset(a,n):a is number of test examples\n",
    "  dist: array(a,m): each row contains dist of a training point from all other points.\n",
    "  y: array(m,)=labels of all training points\n",
    "  k: number of nearest labels to be considerd\n",
    "  \"\"\"\n",
    "  dist=neighbour_dist(x,x_test)\n",
    "  NN_labels=output(y,dist,k)\n",
    "\n",
    "  \n",
    "  answer=np.apply_along_axis(lambda x: np.bincount(x, minlength=10), axis=1, arr=NN_labels)\n",
    "  \n",
    "  fin_ans=np.argmax(answer,axis=1)\n",
    "  \n",
    "\n",
    "  return fin_ans"
   ]
  },
  {
   "cell_type": "code",
   "execution_count": 37,
   "metadata": {},
   "outputs": [],
   "source": [
    "def accuracy(y1,y2):\n",
    "    return np.mean(y1==y2)"
   ]
  },
  {
   "cell_type": "code",
   "execution_count": 44,
   "metadata": {},
   "outputs": [
    {
     "name": "stdout",
     "output_type": "stream",
     "text": [
      "(6000, 24000)\n",
      "0.9766666666666667\n"
     ]
    }
   ],
   "source": [
    "k=9\n",
    "\n",
    "y_predicted=answer(Y_train,X_train,X_test,k)\n",
    "\n",
    "\n",
    "print(accuracy(Y_test,y_predicted))"
   ]
  },
  {
   "cell_type": "code",
   "execution_count": 8,
   "metadata": {},
   "outputs": [],
   "source": [
    "def test(y,dist,k):\n",
    "  \n",
    "  NN_labels=output(y,dist,k)\n",
    "\n",
    "  \n",
    "  answer=np.apply_along_axis(lambda x: np.bincount(x, minlength=10), axis=1, arr=NN_labels)\n",
    "  \n",
    "  fin_ans=np.argmax(answer,axis=1)\n",
    "  \n",
    "\n",
    "  return fin_ans"
   ]
  }
 ],
 "metadata": {
  "kernelspec": {
   "display_name": "base",
   "language": "python",
   "name": "python3"
  },
  "language_info": {
   "codemirror_mode": {
    "name": "ipython",
    "version": 3
   },
   "file_extension": ".py",
   "mimetype": "text/x-python",
   "name": "python",
   "nbconvert_exporter": "python",
   "pygments_lexer": "ipython3",
   "version": "3.11.5"
  }
 },
 "nbformat": 4,
 "nbformat_minor": 2
}
