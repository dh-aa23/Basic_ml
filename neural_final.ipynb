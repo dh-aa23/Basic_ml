{
 "cells": [
  {
   "cell_type": "code",
   "execution_count": 2,
   "metadata": {},
   "outputs": [],
   "source": [
    "import numpy as np\n",
    "import pandas as pd\n",
    "import math\n",
    "from matplotlib import pyplot as plt\n"
   ]
  },
  {
   "cell_type": "code",
   "execution_count": 3,
   "metadata": {},
   "outputs": [],
   "source": [
    "arr = np.loadtxt(\"Classification_train.csv\", skiprows = 1, delimiter=\",\")\n",
    "arr1 = np.random.permutation(arr)\n",
    "# X=arr.drop(['label'],axis=1)\n",
    "# Y=arr['label']\n"
   ]
  },
  {
   "cell_type": "code",
   "execution_count": 4,
   "metadata": {},
   "outputs": [],
   "source": [
    "x_train1=arr1[:,1:]\n",
    "y_train1=arr1[:,0]\n",
    "\n"
   ]
  },
  {
   "cell_type": "code",
   "execution_count": 5,
   "metadata": {},
   "outputs": [],
   "source": [
    "X_train=np.array(x_train1[:24000],dtype=\"float64\")\n",
    "Y_train=np.array(y_train1[:24000],dtype=\"int32\")\n",
    "X_test=np.array(x_train1[24000:],dtype=\"float64\")\n",
    "Y_test=np.array(y_train1[24000:],dtype=\"int32\")\n",
    "\n"
   ]
  },
  {
   "cell_type": "code",
   "execution_count": 6,
   "metadata": {},
   "outputs": [],
   "source": [
    "def normalise(x):\n",
    "    \"\"\"\n",
    "    x= array(m,n) = trainig set m= no of examples, n= no.of features\n",
    "    mu (ndarray (n,))     : mean of each feature\n",
    "        sigma (ndarray (n,))  : standard deviation of each feature\n",
    "    \"\"\"\n",
    "    n=np.shape(x[1:][0])\n",
    "    mu = np.mean(x, axis=0)\n",
    "    sigma = np.std(x, axis=0)+1e-10\n",
    "    x_normalised= (x-mu)/sigma\n",
    "    return x_normalised,mu,sigma"
   ]
  },
  {
   "cell_type": "code",
   "execution_count": 7,
   "metadata": {},
   "outputs": [],
   "source": [
    "# @title relu\n",
    "def relu(z):\n",
    "    return np.maximum(0,z)    "
   ]
  },
  {
   "cell_type": "code",
   "execution_count": 8,
   "metadata": {},
   "outputs": [],
   "source": [
    "def softmax(z):\n",
    "    \"\"\"\n",
    "    x: array of outputs of each previous neuron(shape = (m,n))\n",
    "    w: array(10,n): weight for each number\n",
    "    b:array(10,1):bias for each number\n",
    "    \"\"\"\n",
    "\n",
    "    z_max=np.max(z, axis=1, keepdims=True)\n",
    "    exponential= np.exp(z-z_max)  #shape(m,10)\n",
    "    denominator=np.sum(exponential,0) + 1e-15  #shape(m,)\n",
    "   \n",
    "    return np.divide(exponential,denominator).T #shape(m,10)"
   ]
  },
  {
   "cell_type": "code",
   "execution_count": 9,
   "metadata": {},
   "outputs": [],
   "source": [
    "def cost(y_one_hot, softmax_output,_lambda,w_s):\n",
    "    \n",
    "    m=y_one_hot.T.shape[0]\n",
    "\n",
    "    cost = -np.sum(y_one_hot * np.log(softmax_output))/m\n",
    "\n",
    "    regularization= _lambda*np.sum(np.square(w_s))\n",
    "    regularization=regularization/(2*m)\n",
    "\n",
    "    total_cost=cost+regularization\n",
    "\n",
    "    return total_cost"
   ]
  },
  {
   "cell_type": "code",
   "execution_count": 10,
   "metadata": {},
   "outputs": [],
   "source": [
    "def one_hot_encoding(y):\n",
    "    m=y.size\n",
    "    n=10\n",
    "    p=np.zeros((m,n))\n",
    "    p[np.arange(m),y]=1\n",
    "    return p.T"
   ]
  },
  {
   "cell_type": "code",
   "execution_count": 11,
   "metadata": {},
   "outputs": [],
   "source": [
    "def relu_derivative(z):\n",
    "    return np.where(z> 0, 1, 0)"
   ]
  },
  {
   "cell_type": "code",
   "execution_count": 12,
   "metadata": {},
   "outputs": [],
   "source": [
    "def softmax_grad(y,x_l,soft):\n",
    "    \"\"\"\n",
    "    y:array(m,):output labels\n",
    "    x_l:(n,):activationof last hidden layer\n",
    "    w_s(10,n):weights of softmax\n",
    "    b_s:(10,):bias of softmax\n",
    "    \"\"\"    \n",
    "    m=y.shape[0]\n",
    "    \n",
    "    y_one_hot=one_hot_encoding(y)\n",
    "    dw_s=np.dot((soft - y_one_hot), x_l)/m\n",
    "    #print(soft.shape)\n",
    "    db_s=np.sum((soft-y_one_hot).T,axis=0)/m\n",
    "    return dw_s,db_s"
   ]
  },
  {
   "cell_type": "code",
   "execution_count": 13,
   "metadata": {},
   "outputs": [],
   "source": [
    "def last_r_grad(y,soft,x_prev,w_s,z,w_l):\n",
    "    \"\"\" \n",
    "    soft:(m,10):output of softmax\n",
    "    z:pre activation output of last output layer\n",
    "    x_prev:activation of second lst hidden layer\n",
    "    w_l: wights of last laer\n",
    "    \"\"\"\n",
    "    m=y.shape[0]\n",
    "    \n",
    "    y_one_hot=one_hot_encoding(y)\n",
    "    \n",
    "    dw_l=np.dot((np.dot((soft-y_one_hot).T,w_s)*relu_derivative(z)).T,x_prev)/m\n",
    "    db_l=np.sum((np.dot((soft-y_one_hot).T,w_s)*relu_derivative(z)),axis=0,keepdims=True)/m\n",
    "    dc_dx_l_1=np.dot((np.dot((soft-y_one_hot).T,w_s)*relu_derivative(z)),w_l)/m #derivative of cost wrt pre activaton of previous layer\n",
    "    return dw_l,db_l,dc_dx_l_1"
   ]
  },
  {
   "cell_type": "code",
   "execution_count": 14,
   "metadata": {},
   "outputs": [],
   "source": [
    "def relu_grad(x_prev,z,dc_dzn,w):\n",
    "    \"\"\" \n",
    "    w=weights of curent layer\n",
    "    x_prev=activation of previous layer\n",
    "    z=pre activationoutput of current layer\n",
    "    dc_dzn=derivative of cost wrt pre activaton of current layer\n",
    "    \"\"\"\n",
    "    m=x_prev.size\n",
    "    dw=np.dot((dc_dzn*relu_derivative(z)).T,x_prev)\n",
    "    db=np.sum((dc_dzn*relu_derivative(z)),axis=0,keepdims=True)\n",
    "    dc_dxn=np.dot((dc_dzn*relu_derivative(z)),w)\n",
    "    return dw,db,dc_dxn"
   ]
  },
  {
   "cell_type": "code",
   "execution_count": 15,
   "metadata": {},
   "outputs": [],
   "source": [
    "def adam_initialise(layers):\n",
    "    weight = []\n",
    "    bias = []\n",
    "    n = len(layers)\n",
    "    for i in range(n):\n",
    "        if i == 0:\n",
    "            weight.append(np.zeros((layers[0], 784)))\n",
    "            bias.append(np.zeros((layers[0]),))\n",
    "        else:\n",
    "            weight.append(np.zeros((layers[i], layers[i - 1])))\n",
    "            bias.append(np.zeros((layers[i]),))\n",
    "\n",
    "    weight.append(np.zeros((10, layers[-1])))\n",
    "    bias.append(np.zeros(10,))\n",
    "\n",
    "    return weight, bias"
   ]
  },
  {
   "cell_type": "code",
   "execution_count": 16,
   "metadata": {},
   "outputs": [],
   "source": [
    "def gradient_descent(weight, bias, grad_w, grad_b, Vdw, Vdb, Sdw, Sdb, beta_1, beta_2,alpha, layers):\n",
    "    n = len(weight)\n",
    "\n",
    "    for i in range(n):\n",
    "        \n",
    "        Vdw[i] = beta_1 * Vdw[i] + (1 - beta_1) * grad_w[n-1-i]\n",
    "        Vdb[i] = beta_1 * Vdb[i] + (1 - beta_1) * grad_b[n-1-i]\n",
    "        Sdw[i] = beta_2 * Sdw[i] + (1 - beta_2) * np.square(grad_w[n-1-i])\n",
    "        Sdb[i] = beta_2 * Sdb[i] + (1 - beta_2) * np.square(grad_b[n-1-i])\n",
    "        weight[i] -= alpha * (Vdw[i] / np.sqrt(Sdw[i] + np.finfo(np.float64).eps))\n",
    "        bias[i] -= alpha * (Vdb[i] / np.sqrt(Sdb[i] + np.finfo(np.float64).eps)).squeeze()\n",
    "\n",
    "\n",
    "\n",
    "    return weight, bias, Vdw, Vdb,Sdw,Sdb"
   ]
  },
  {
   "cell_type": "code",
   "execution_count": 17,
   "metadata": {},
   "outputs": [],
   "source": [
    "def initial_weight_n_bias(layers):\n",
    "    weight=[]\n",
    "    bias=[]\n",
    "    n=len(layers)\n",
    "    for i in range(n):\n",
    "        if i==0:\n",
    "            weight.append(np.random.randn(layers[0],784)*np.sqrt(2/784))\n",
    "            bias.append(np.random.randn(layers[0])*np.sqrt(2/784)) \n",
    "        else:\n",
    "            weight.append(np.random.randn(layers[i],layers[i-1])*np.sqrt(2/layers[i-1]))\n",
    "            bias.append(np.random.randn(layers[i])*np.sqrt(2/layers[i-1]))\n",
    "    \n",
    "    weight.append(np.random.randn(10,layers[-1])*np.sqrt(2/layers[-1]))\n",
    "    bias.append(np.random.randn(10,)*np.sqrt(2/layers[-1]))\n",
    "\n",
    "    return weight,bias"
   ]
  },
  {
   "cell_type": "code",
   "execution_count": 18,
   "metadata": {},
   "outputs": [],
   "source": [
    "def forward_prop(layers,x,w,b):\n",
    "    n=len(layers) #number of hidden layers\n",
    "    forward_values=[]\n",
    "    pre_act=[]\n",
    "    forward_values.append(x)\n",
    "    for i in range(n):\n",
    "                \n",
    "        z=np.dot(x,w[i].T) + b[i]\n",
    "        pre_act.append(z)\n",
    "        x=relu(z)\n",
    "        forward_values.append(x)\n",
    "    z=np.dot(x,w[-1].T)+b[-1]\n",
    "    \n",
    "    soft = softmax(z)\n",
    "    \n",
    "    forward_values.append(soft)\n",
    "    return forward_values,pre_act"
   ]
  },
  {
   "cell_type": "code",
   "execution_count": 19,
   "metadata": {},
   "outputs": [],
   "source": [
    "def back_pass(layers,y,forward_values,pre_act,weights):#correction ramoaing in for loop for i=n-1\n",
    "    n=len(layers)\n",
    "    grad_w=[]\n",
    "    grad_b=[]\n",
    "    dw_s,db_s=softmax_grad(y,forward_values[-2],forward_values[-1])\n",
    "    grad_w.append(dw_s)\n",
    "    grad_b.append(db_s)\n",
    "    \n",
    "    dw_l,db_l,dc_dxn=last_r_grad(y,forward_values[-1],forward_values[-3],weights[-1],pre_act[-1],weights[-2])\n",
    "\n",
    "    grad_w.append(dw_l)\n",
    "    grad_b.append(db_l)\n",
    "    for i in range(n-1):\n",
    "        dw,db,dc_dxn=relu_grad(forward_values[-4-i],pre_act[-2-i],dc_dxn,weights[-3-i])\n",
    "        grad_w.append(dw)\n",
    "        grad_b.append(db)\n",
    "    \n",
    "    return grad_w,grad_b"
   ]
  },
  {
   "cell_type": "code",
   "execution_count": 20,
   "metadata": {},
   "outputs": [],
   "source": [
    "def neural(x, y, layers, itr_nos, alpha, beta_1, beta_2, _lambda=0):\n",
    "    n = len(layers)\n",
    "    m,n=x.shape\n",
    "    weight, bias = initial_weight_n_bias(layers)\n",
    "    Vdw, Vdb = adam_initialise(layers)\n",
    "    Sdw, Sdb = adam_initialise(layers)\n",
    "    y_one_hot = one_hot_encoding(Y_train)\n",
    "    batch=128\n",
    "    k=m//batch\n",
    "    C_hist=np.zeros(itr_nos)\n",
    "    for i in range(itr_nos):\n",
    "        for j in range(k):\n",
    "            x_t=x[batch*j:batch*(j+1)]\n",
    "            y_t=y[batch*j:batch*(j+1)]\n",
    "            forward_values, pre_act = forward_prop(layers, x_t, weight, bias)\n",
    "            grad_w, grad_b = back_pass(layers, y_t, forward_values, pre_act, weight)\n",
    "            weight, bias, Vdw, Vdb ,Sdw,Sdb= gradient_descent(weight, bias, grad_w, grad_b, Vdw, Vdb, Sdw, Sdb, beta_1, beta_2,\n",
    "                                                 alpha, layers)\n",
    "        # if i % math.ceil(itr_nos / 5) == 0:\n",
    "        #     alpha=alpha*0.5\n",
    "        \n",
    "        forward_values_c, pre_act = forward_prop(layers, x, weight, bias)\n",
    "        costn=cost(y_one_hot, forward_values_c[-1], _lambda, weight[-1])\n",
    "        C_hist[i]+=costn\n",
    "        if i % math.ceil(itr_nos / 10) == 0:\n",
    "            print(f\"epoch={i}, cost={costn}\")\n",
    "    return weight, bias,C_hist"
   ]
  },
  {
   "cell_type": "code",
   "execution_count": 24,
   "metadata": {},
   "outputs": [
    {
     "name": "stdout",
     "output_type": "stream",
     "text": [
      "epoch=0, cost=10.514434831010352\n",
      "epoch=10, cost=9.997817005474616\n",
      "epoch=20, cost=9.679732420692464\n",
      "epoch=30, cost=9.439324911123206\n",
      "epoch=40, cost=9.25321548711068\n",
      "epoch=50, cost=9.10540962400596\n",
      "epoch=60, cost=8.986859423672923\n",
      "epoch=70, cost=8.89270478727913\n",
      "epoch=80, cost=8.81888647882679\n",
      "epoch=90, cost=8.762589898319876\n"
     ]
    }
   ],
   "source": [
    "layers=[512,324]\n",
    "x_norm,mu,sigma=normalise(X_train)\n",
    "weight,bias,C_hist=neural(x_norm,Y_train,layers,100,0.0000003,0.7,0.999)"
   ]
  },
  {
   "cell_type": "code",
   "execution_count": 25,
   "metadata": {},
   "outputs": [
    {
     "name": "stdout",
     "output_type": "stream",
     "text": [
      "accuracy:0.798\n"
     ]
    }
   ],
   "source": [
    "X_test_n=(X_test-mu)/sigma\n",
    "ford,pre=forward_prop(layers,X_test/255,weight,bias)\n",
    "pred=np.argmax(ford[-1],axis=0)\n",
    "def accuracy(y1,y2):\n",
    "    return np.mean(y1==y2)\n",
    "print(f\"accuracy:{accuracy(Y_test,pred)}\")"
   ]
  },
  {
   "cell_type": "code",
   "execution_count": 26,
   "metadata": {},
   "outputs": [
    {
     "data": {
      "image/png": "[encoded data removed]",
      "text/plain": [
       "<Figure size 640x480 with 1 Axes>"
      ]
     },
     "metadata": {},
     "output_type": "display_data"
    }
   ],
   "source": [
    "plt.plot(C_hist)\n",
    "plt.show()"
   ]
  }
 ],
 "metadata": {
  "kernelspec": {
   "display_name": "base",
   "language": "python",
   "name": "python3"
  },
  "language_info": {
   "codemirror_mode": {
    "name": "ipython",
    "version": 3
   },
   "file_extension": ".py",
   "mimetype": "text/x-python",
   "name": "python",
   "nbconvert_exporter": "python",
   "pygments_lexer": "ipython3",
   "version": "3.11.5"
  }
 },
 "nbformat": 4,
 "nbformat_minor": 2
}
